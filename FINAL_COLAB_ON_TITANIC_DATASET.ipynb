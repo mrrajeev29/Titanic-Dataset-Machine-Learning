{
  "cells": [
    {
      "cell_type": "markdown",
      "metadata": {
        "id": "view-in-github",
        "colab_type": "text"
      },
      "source": [
        "<a href=\"https://colab.research.google.com/github/mrrajeev29/Titanic-Dataset-Machine-Learning/blob/main/FINAL_COLAB_ON_TITANIC_DATASET.ipynb\" target=\"_parent\"><img src=\"https://colab.research.google.com/assets/colab-badge.svg\" alt=\"Open In Colab\"/></a>"
      ]
    },
    {
      "cell_type": "code",
      "source": [
        "from google.colab import drive\n",
        "drive.mount('/content/drive')"
      ],
      "metadata": {
        "colab": {
          "base_uri": "https://localhost:8080/"
        },
        "id": "8epu59vaZsAA",
        "outputId": "5ff703f6-062f-4c2e-a497-0ae31d2d8b36"
      },
      "execution_count": null,
      "outputs": [
        {
          "output_type": "stream",
          "name": "stdout",
          "text": [
            "Drive already mounted at /content/drive; to attempt to forcibly remount, call drive.mount(\"/content/drive\", force_remount=True).\n"
          ]
        }
      ]
    },
    {
      "cell_type": "code",
      "source": [
        "import numpy as np\n",
        "import pandas as pd\n",
        "import copy, math\n",
        "import matplotlib.pyplot as plt\n",
        "import matplotlib as mpl"
      ],
      "metadata": {
        "id": "xvGUzkJQz9Iq"
      },
      "execution_count": null,
      "outputs": []
    },
    {
      "cell_type": "code",
      "source": [
        "data1 = '/content/drive/MyDrive/GOOGLE COLAB/titanic.csv'\n",
        "titanic = pd.read_csv(data1)"
      ],
      "metadata": {
        "id": "cWV32AiIarVU"
      },
      "execution_count": null,
      "outputs": []
    },
    {
      "cell_type": "code",
      "source": [
        "train = pd.read_csv(\"/content/drive/MyDrive/GOOGLE COLAB/train.csv\")"
      ],
      "metadata": {
        "id": "K0Ztn_LXc8vG"
      },
      "execution_count": null,
      "outputs": []
    },
    {
      "cell_type": "code",
      "source": [
        "test = pd.read_csv(\"/content/drive/MyDrive/GOOGLE COLAB/test.csv\")"
      ],
      "metadata": {
        "id": "8_pcYla9h75K"
      },
      "execution_count": null,
      "outputs": []
    },
    {
      "cell_type": "code",
      "source": [
        "print(\"Train coloumns: \", train.columns.tolist)"
      ],
      "metadata": {
        "colab": {
          "base_uri": "https://localhost:8080/"
        },
        "id": "a0eAcM-EiB1m",
        "outputId": "53bb1ee6-57a6-4132-9ec0-0a6943efafbc"
      },
      "execution_count": null,
      "outputs": [
        {
          "output_type": "stream",
          "name": "stdout",
          "text": [
            "Train coloumns:  <bound method IndexOpsMixin.tolist of Index(['PassengerId', 'Survived', 'Pclass', 'Name', 'Sex', 'Age', 'SibSp',\n",
            "       'Parch', 'Ticket', 'Fare', 'Cabin', 'Embarked'],\n",
            "      dtype='object')>\n"
          ]
        }
      ]
    },
    {
      "cell_type": "code",
      "source": [
        "print(\"Test columns: \", test.columns.tolist)"
      ],
      "metadata": {
        "colab": {
          "base_uri": "https://localhost:8080/"
        },
        "id": "Av2MFss4iWr6",
        "outputId": "f7d8225e-22ab-4470-aa98-58a8c87a2a0c"
      },
      "execution_count": null,
      "outputs": [
        {
          "output_type": "stream",
          "name": "stdout",
          "text": [
            "Test columns:  <bound method IndexOpsMixin.tolist of Index(['PassengerId', 'Pclass', 'Name', 'Sex', 'Age', 'SibSp', 'Parch',\n",
            "       'Ticket', 'Fare', 'Cabin', 'Embarked'],\n",
            "      dtype='object')>\n"
          ]
        }
      ]
    },
    {
      "cell_type": "code",
      "source": [
        "# load the data\n",
        "train_data = pd.read_csv('/content/drive/MyDrive/GOOGLE COLAB/train.csv')\n",
        "test_data = pd.read_csv('/content/drive/MyDrive/GOOGLE COLAB/tested.csv.xls')\n",
        "\n",
        "# preprocess the data for train dataset\n",
        "\n",
        "train_data = train_data.drop(['PassengerId', 'Name', 'Ticket', 'Cabin'], axis=1)\n",
        "train_data = train_data.dropna()\n",
        "train_data['Sex'] = train_data['Sex'].map({'female': 1, 'male': 0}).astype(int)\n",
        "train_data['Embarked'] = train_data['Embarked'].map({'S': 0, 'C': 1, 'Q': 2}).astype(int)\n",
        "X_train = train_data.drop(['Survived'], axis=1)\n",
        "y_train = train_data['Survived']\n",
        "\n",
        "# preprocess the data for test dataset\n",
        "\n",
        "test_data = test_data.drop(['PassengerId', 'Name', 'Ticket', 'Cabin'], axis=1)\n",
        "test_data = test_data.dropna()\n",
        "test_data['Sex'] = test_data['Sex'].map({'female': 1, 'male': 0}).astype(int)\n",
        "test_data['Embarked'] = test_data['Embarked'].map({'S': 0, 'C': 1, 'Q': 2}).astype(int)\n",
        "X_test = test_data.drop(['Survived'], axis=1)\n",
        "y_test = test_data['Survived']"
      ],
      "metadata": {
        "id": "0jMK4ge7vTjZ"
      },
      "execution_count": null,
      "outputs": []
    },
    {
      "cell_type": "code",
      "source": [
        "plt.xlim(0, 5)\n",
        "plt.ylim(0, 5)\n",
        "plt.scatter(train.Pclass, train.Survived)\n",
        "plt.title(\"Scatter Plot\")\n",
        "plt.xlabel(\"Pclass\")\n",
        "plt.ylabel(\"Survived\")\n",
        "plt.show()"
      ],
      "metadata": {
        "colab": {
          "base_uri": "https://localhost:8080/",
          "height": 295
        },
        "id": "FVt52gUHvce5",
        "outputId": "8b399144-6eda-45a4-d105-6fb922216b94"
      },
      "execution_count": null,
      "outputs": [
        {
          "output_type": "display_data",
          "data": {
            "text/plain": [
              "<Figure size 432x288 with 1 Axes>"
            ],
            "image/png": "[encoded data removed]"
          },
          "metadata": {
            "needs_background": "light"
          }
        }
      ]
    },
    {
      "cell_type": "code",
      "source": [
        "# Load the Titanic dataset\n",
        "data = pd.read_csv('/content/drive/MyDrive/GOOGLE COLAB/titanic.csv')\n",
        "\n",
        "# Preprocess the data by removing unnecessary features and handling missing values\n",
        "data = data.drop(['PassengerId', 'Name', 'Ticket', 'Cabin', 'Embarked'], axis=1)\n",
        "data['Age'].fillna(data['Age'].mean(), inplace=True)\n",
        "data['Fare'].fillna(data['Fare'].mean(), inplace=True)\n",
        "\n",
        "# Separate the independent and dependent variables\n",
        "X = data.drop('Survived', axis=1)\n",
        "y = data['Survived']\n",
        "\n",
        "# Set the number of features in the dataset (excluding the target variable)\n",
        "num_features = X.shape[1]\n",
        "\n",
        "# Initialize the weight vector with random values drawn from a normal distribution\n",
        "w = np.array(np.random.normal(size=num_features))\n",
        "\n",
        "# Initialize the bias term with a small random value\n",
        "b = np.random.normal(size=1)"
      ],
      "metadata": {
        "id": "zB1yQ-0MDa7y"
      },
      "execution_count": null,
      "outputs": []
    },
    {
      "cell_type": "code",
      "source": [
        "def sigmoid(z):\n",
        "    return 1 / (1 + np.exp(-z))"
      ],
      "metadata": {
        "id": "mVCZavsTF6u3"
      },
      "execution_count": null,
      "outputs": []
    },
    {
      "cell_type": "code",
      "source": [
        "def compute_cost(X, y, w, b):\n",
        "    m = len(y)\n",
        "    y_pred = sigmoid(np.dot(X, w) + b)\n",
        "    cost = -1/m * np.sum(y * np.log(y_pred) + (1-y) * np.log(1-y_pred))\n",
        "    return cost"
      ],
      "metadata": {
        "id": "QDDyg1_1qWDW"
      },
      "execution_count": null,
      "outputs": []
    },
    {
      "cell_type": "code",
      "source": [
        "def compute_cost_test(X_test, y_test, w, b):\n",
        "    m = len(y_test)\n",
        "    f_wb = sigmoid(np.dot(X_test, w) + b)\n",
        "    cost = -1/m * np.sum(y_test * np.log(f_wb) + (1-y_test) * np.log(1-f_wb))\n",
        "    return cost"
      ],
      "metadata": {
        "id": "L6K4YIM_qcii"
      },
      "execution_count": null,
      "outputs": []
    },
    {
      "cell_type": "code",
      "source": [
        "def compute_gradient(X, y, w, b):\n",
        "    m = len(y)\n",
        "    z = np.dot(X, w) + b\n",
        "    f_wb = sigmoid(z)\n",
        "    gradient_w = 1/m * np.dot(X.T, f_wb - y)\n",
        "    gradient_b = 1/m * np.sum(f_wb - y)\n",
        "    return gradient_w, gradient_b"
      ],
      "metadata": {
        "id": "ZLZVZw_lqd6x"
      },
      "execution_count": null,
      "outputs": []
    },
    {
      "cell_type": "code",
      "source": [
        "def compute_gradient_descent(X, y, w, b, learning_rate, num_iterations):\n",
        "    costs = []\n",
        "    for i in range(num_iterations):\n",
        "        \n",
        "        # compute the gradient\n",
        "\n",
        "        gradient_w, gradient_b = compute_gradient(X, y, w, b)\n",
        "\n",
        "        # update the weights and bias\n",
        "\n",
        "        w -= learning_rate * gradient_w\n",
        "        b -= learning_rate * gradient_b\n",
        "        \n",
        "        # compute the cost and append it to the list of costs\n",
        "        \n",
        "        cost = compute_cost(X, y, w, b)\n",
        "        costs.append(cost)\n",
        "    \n",
        "    w_optimized = w\n",
        "    b_optimized = b\n",
        "\n",
        "    return w_optimized, b_optimized, costs"
      ],
      "metadata": {
        "id": "6qeZWqd0qmCj"
      },
      "execution_count": null,
      "outputs": []
    },
    {
      "cell_type": "code",
      "source": [
        "# initialize the weights and bias\n",
        "\n",
        "w = np.random.randn(X_train.shape[1])\n",
        "b = np.random.randn()"
      ],
      "metadata": {
        "id": "fZOFPo95rDfx"
      },
      "execution_count": null,
      "outputs": []
    },
    {
      "cell_type": "code",
      "source": [
        "# perform gradient descent\n",
        "\n",
        "w_optimized, b_optimized, costs = compute_gradient_descent(X_train, y_train, w, b, 0.01, 1000)"
      ],
      "metadata": {
        "colab": {
          "base_uri": "https://localhost:8080/"
        },
        "id": "RQACCMrarE0e",
        "outputId": "9c9e24f2-66ec-48e2-d302-68811fa6ee61"
      },
      "execution_count": null,
      "outputs": [
        {
          "output_type": "stream",
          "name": "stderr",
          "text": [
            "<ipython-input-64-42ded5b7a316>:4: RuntimeWarning: divide by zero encountered in log\n",
            "  cost = -1/m * np.sum(y * np.log(y_pred) + (1-y) * np.log(1-y_pred))\n"
          ]
        }
      ]
    },
    {
      "cell_type": "code",
      "source": [
        "# compute the training and test set accuracies\n",
        "\n",
        "y_train_pred = sigmoid(np.dot(X_train, w_optimized) + b_optimized)\n",
        "y_train_pred = np.round(y_train_pred)\n",
        "train_accuracy = np.mean(y_train_pred == y_train)\n",
        "\n",
        "y_test_pred = sigmoid(np.dot(X_test, w_optimized) + b_optimized)\n",
        "y_test_pred = np.round(y_test_pred)\n",
        "test_accuracy = np.mean(y_test_pred == y_test)\n",
        "\n",
        "print(\"Training set accuracy:\", train_accuracy)\n",
        "print(\"Test set accuracy:\", test_accuracy)"
      ],
      "metadata": {
        "colab": {
          "base_uri": "https://localhost:8080/"
        },
        "id": "TZ-QXkaHrI3_",
        "outputId": "b08380ec-b43c-44b0-a697-a8368a6f9c34"
      },
      "execution_count": null,
      "outputs": [
        {
          "output_type": "stream",
          "name": "stdout",
          "text": [
            "Training set accuracy: 0.5955056179775281\n",
            "Test set accuracy: 0.6163141993957704\n"
          ]
        }
      ]
    }
  ],
  "metadata": {
    "colab": {
      "provenance": [],
      "include_colab_link": true
    },
    "kernelspec": {
      "display_name": "Python 3",
      "name": "python3"
    }
  },
  "nbformat": 4,
  "nbformat_minor": 0
}